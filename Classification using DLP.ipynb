{
  "nbformat": 4,
  "nbformat_minor": 0,
  "metadata": {
    "kernelspec": {
      "display_name": "Python 3",
      "language": "python",
      "name": "python3"
    },
    "language_info": {
      "codemirror_mode": {
        "name": "ipython",
        "version": 3
      },
      "file_extension": ".py",
      "mimetype": "text/x-python",
      "name": "python",
      "nbconvert_exporter": "python",
      "pygments_lexer": "ipython3",
      "version": "3.8.3"
    },
    "colab": {
      "name": "PDC project with DLP exploitation.ipynb",
      "provenance": []
    },
    "accelerator": "GPU"
  },
  "cells": [
    {
      "cell_type": "code",
      "metadata": {
        "colab": {
          "base_uri": "https://localhost:8080/"
        },
        "id": "Z_HqvGjE2bio",
        "outputId": "2ca0ec5b-379d-43af-b04c-0a5885893aab"
      },
      "source": [
        "from google.colab import drive\n",
        "drive.mount('/content/gdrive')"
      ],
      "execution_count": null,
      "outputs": [
        {
          "output_type": "stream",
          "text": [
            "Mounted at /content/gdrive\n"
          ],
          "name": "stdout"
        }
      ]
    },
    {
      "cell_type": "code",
      "metadata": {
        "id": "e-9dVmn92koV"
      },
      "source": [
        "import os\n",
        "os.environ['KAGGLE_CONFIG_DIR'] = '/content/gdrive/My Drive/Kaggle'"
      ],
      "execution_count": null,
      "outputs": []
    },
    {
      "cell_type": "code",
      "metadata": {
        "colab": {
          "base_uri": "https://localhost:8080/"
        },
        "id": "PiMGggG52vl-",
        "outputId": "268e5f57-85c9-487e-9295-dcce0c1b1129"
      },
      "source": [
        "%cd /content/gdrive/My Drive/Kaggle"
      ],
      "execution_count": null,
      "outputs": [
        {
          "output_type": "stream",
          "text": [
            "/content/gdrive/My Drive/Kaggle\n"
          ],
          "name": "stdout"
        }
      ]
    },
    {
      "cell_type": "code",
      "metadata": {
        "id": "VMb_m5v91rPc"
      },
      "source": [
        "import numpy as np\n",
        "import copy\n",
        "import matplotlib.pyplot as plt\n",
        "import h5py\n",
        "import scipy\n",
        "from PIL import Image\n",
        "from scipy import ndimage\n",
        "from datetime import datetime\n",
        "%matplotlib inline"
      ],
      "execution_count": null,
      "outputs": []
    },
    {
      "cell_type": "code",
      "metadata": {
        "id": "a6TdRWEl1rPn"
      },
      "source": [
        "def load_dataset():\n",
        "    train_dataset = h5py.File('train_catvnoncat.h5', \"r\")\n",
        "    train_set_x_orig = np.array(train_dataset[\"train_set_x\"][:]) # train set features\n",
        "    train_set_y_orig = np.array(train_dataset[\"train_set_y\"][:]) # train set labels\n",
        "\n",
        "    test_dataset = h5py.File('test_catvnoncat.h5', \"r\")\n",
        "    test_set_x_orig = np.array(test_dataset[\"test_set_x\"][:]) # test set features\n",
        "    test_set_y_orig = np.array(test_dataset[\"test_set_y\"][:]) # test set labels\n",
        "\n",
        "    classes = np.array(test_dataset[\"list_classes\"][:]) # the list of classes\n",
        "    \n",
        "    train_set_y_orig = train_set_y_orig.reshape((1, train_set_y_orig.shape[0]))\n",
        "    test_set_y_orig = test_set_y_orig.reshape((1, test_set_y_orig.shape[0]))\n",
        "    \n",
        "    return train_set_x_orig, train_set_y_orig, test_set_x_orig, test_set_y_orig, classes"
      ],
      "execution_count": null,
      "outputs": []
    },
    {
      "cell_type": "code",
      "metadata": {
        "id": "u-kNx3YM1rPp"
      },
      "source": [
        "# Loading the data (cat/non-cat)\n",
        "train_set_x_orig, train_set_y, test_set_x_orig, test_set_y, classes = load_dataset()"
      ],
      "execution_count": null,
      "outputs": []
    },
    {
      "cell_type": "code",
      "metadata": {
        "colab": {
          "base_uri": "https://localhost:8080/",
          "height": 286
        },
        "id": "r9OfQrZA1rPq",
        "outputId": "cfad2993-2ac4-47ad-f982-136a69dadfa9"
      },
      "source": [
        "index = 11\n",
        "plt.imshow(train_set_x_orig[index])\n",
        "print (\"y = \" + str(train_set_y[:, index]) + \", it's a '\" + classes[np.squeeze(train_set_y[:, index])].decode(\"utf-8\") +  \"' picture.\")"
      ],
      "execution_count": null,
      "outputs": [
        {
          "output_type": "stream",
          "text": [
            "y = [1], it's a 'cat' picture.\n"
          ],
          "name": "stdout"
        },
        {
          "output_type": "display_data",
          "data": {
            "image/png": "[encoded data removed]",
            "text/plain": [
              "<Figure size 432x288 with 1 Axes>"
            ]
          },
          "metadata": {
            "tags": [],
            "needs_background": "light"
          }
        }
      ]
    },
    {
      "cell_type": "code",
      "metadata": {
        "colab": {
          "base_uri": "https://localhost:8080/",
          "height": 286
        },
        "id": "fP0P9sX31rPs",
        "outputId": "696f9e21-74c6-4164-f3b1-27a126740b1c"
      },
      "source": [
        "index = 10\n",
        "plt.imshow(train_set_x_orig[index])\n",
        "print (\"y = \" + str(train_set_y[:, index]) + \", it's a '\" + classes[np.squeeze(train_set_y[:, index])].decode(\"utf-8\") +  \"' picture.\")"
      ],
      "execution_count": null,
      "outputs": [
        {
          "output_type": "stream",
          "text": [
            "y = [0], it's a 'non-cat' picture.\n"
          ],
          "name": "stdout"
        },
        {
          "output_type": "display_data",
          "data": {
            "image/png": "[encoded data removed]",
            "text/plain": [
              "<Figure size 432x288 with 1 Axes>"
            ]
          },
          "metadata": {
            "tags": [],
            "needs_background": "light"
          }
        }
      ]
    },
    {
      "cell_type": "code",
      "metadata": {
        "id": "7tQzzgd01rPt"
      },
      "source": [
        "train_set_x_flatten = train_set_x_orig.reshape(train_set_x_orig.shape[0], -1).T\n",
        "test_set_x_flatten = test_set_x_orig.reshape(test_set_x_orig.shape[0], -1).T"
      ],
      "execution_count": null,
      "outputs": []
    },
    {
      "cell_type": "code",
      "metadata": {
        "id": "2CQBKgYo1rPu"
      },
      "source": [
        "train_set_x = train_set_x_flatten/255\n",
        "test_set_x = test_set_x_flatten/255"
      ],
      "execution_count": null,
      "outputs": []
    },
    {
      "cell_type": "markdown",
      "metadata": {
        "id": "57R6mcwIuZr8"
      },
      "source": [
        "# **All below cells are exploiting DLP**"
      ]
    },
    {
      "cell_type": "code",
      "metadata": {
        "id": "Qe4kIUjl1rPu"
      },
      "source": [
        "def sigmoid(z):\n",
        "    s = 1 / (1 + np.exp(-z))\n",
        "    return s"
      ],
      "execution_count": null,
      "outputs": []
    },
    {
      "cell_type": "code",
      "metadata": {
        "id": "7nS4zT6d1rPv"
      },
      "source": [
        "def initialize_with_zeros(dim):\n",
        "    w = np.zeros(shape=(dim, 1))\n",
        "    b = 0\n",
        "    return w, b"
      ],
      "execution_count": null,
      "outputs": []
    },
    {
      "cell_type": "code",
      "metadata": {
        "id": "ICC1l12v1rPw"
      },
      "source": [
        "def propagate(w, b, X, Y):\n",
        "    m = X.shape[1]\n",
        "       # FORWARD PROPAGATION (FROM X TO COST)\n",
        "    \n",
        "    A = sigmoid( np.dot(w.T,X) + b )                                   # compute activation\n",
        "    cost = -1 / m * np.sum(Y * np.log(A) + (1-Y) * np.log(1-A))       # compute cost\n",
        "    \n",
        "    # BACKWARD PROPAGATION (TO FIND GRAD)\n",
        "\n",
        "    dw = 1/m * np.dot(X,(A - Y).T)\n",
        "    db = 1/m * np.sum(A - Y)\n",
        "\n",
        "    cost = np.squeeze(np.array(cost))\n",
        "    \n",
        "    grads = {\"dw\": dw,\n",
        "             \"db\": db}\n",
        "    \n",
        "    return grads, cost"
      ],
      "execution_count": null,
      "outputs": []
    },
    {
      "cell_type": "code",
      "metadata": {
        "id": "6TyC40a21rPx"
      },
      "source": [
        "def optimize(w, b, X, Y, num_iterations, learning_rate=0.009, print_cost=False):\n",
        "    w = copy.deepcopy(w)\n",
        "    b = copy.deepcopy(b)\n",
        "    \n",
        "    costs = []\n",
        "    \n",
        "    for i in range(num_iterations):\n",
        "        # Cost and gradient calculation \n",
        "        grads, cost = propagate(w, b, X, Y)\n",
        "        \n",
        "        # Retrieve derivatives from grads\n",
        "        dw = grads[\"dw\"]\n",
        "        db = grads[\"db\"]\n",
        "        \n",
        "        w = w - learning_rate * dw\n",
        "        b = b - learning_rate * db\n",
        "\n",
        "        # Record the costs\n",
        "        if i % 100 == 0:\n",
        "            costs.append(cost)\n",
        "        \n",
        "            # Print the cost every 100 training iterations\n",
        "            if print_cost:\n",
        "                print (\"Cost after iteration %i: %f\" %(i, cost))\n",
        "    \n",
        "    params = {\"w\": w,\n",
        "              \"b\": b}\n",
        "    \n",
        "    grads = {\"dw\": dw,\n",
        "             \"db\": db}\n",
        "    \n",
        "    return params, grads, costs"
      ],
      "execution_count": null,
      "outputs": []
    },
    {
      "cell_type": "code",
      "metadata": {
        "id": "IIMD5XtH1rPy"
      },
      "source": [
        "def predict(w, b, X):\n",
        "\n",
        "    m = X.shape[1]\n",
        "    Y_prediction = np.zeros((1, m))\n",
        "    w = w.reshape(X.shape[0], 1)\n",
        "    \n",
        "    # Compute vector \"A\" predicting the probabilities of a cat being present in the picture\n",
        "   \n",
        "    A = sigmoid(np.dot(w.T, X) + b) \n",
        "    \n",
        "    for i in range(A.shape[1]):\n",
        "        \n",
        "        # Convert probabilities A[0,i] to actual predictions p[0,i]\n",
        "        if A[0, i] > 0.5:\n",
        "            Y_prediction[0,i] = 1 \n",
        "        else:\n",
        "            Y_prediction[0,i] = 0\n",
        "        \n",
        "    \n",
        "    return Y_prediction"
      ],
      "execution_count": null,
      "outputs": []
    },
    {
      "cell_type": "code",
      "metadata": {
        "id": "AXy7XAZa1rPy"
      },
      "source": [
        "def model(X_train, Y_train, X_test, Y_test, num_iterations, learning_rate=0.5, print_cost=False):\n",
        "    start = datetime.now()\n",
        "    \n",
        "    # initialize parameters with zeros \n",
        "    w, b = initialize_with_zeros(X_train.shape[0])\n",
        "    \n",
        "    # Gradient descent \n",
        "    params, grads, costs = optimize(w, b, X_train, Y_train, num_iterations, learning_rate, print_cost)\n",
        "    \n",
        "    # Retrieve parameters w and b from dictionary \"params\"\n",
        "    w = params[\"w\"]\n",
        "    b = params[\"b\"]\n",
        "   \n",
        "    Y_prediction_test = predict(w, b, X_test)\n",
        "    Y_prediction_train = predict(w, b, X_train)\n",
        "    \n",
        "\n",
        "    # Print train/test Errors\n",
        "    if print_cost:\n",
        "        print(\"train accuracy: {} %\".format(100 - np.mean(np.abs(Y_prediction_train - Y_train)) * 100))\n",
        "        print(\"test accuracy: {} %\".format(100 - np.mean(np.abs(Y_prediction_test - Y_test)) * 100))\n",
        "\n",
        "    \n",
        "    d = {\"costs\": costs,\n",
        "         \"Y_prediction_test\": Y_prediction_test, \n",
        "         \"Y_prediction_train\" : Y_prediction_train, \n",
        "         \"w\" : w, \n",
        "         \"b\" : b,\n",
        "         \"learning_rate\" : learning_rate,\n",
        "         \"num_iterations\": num_iterations}\n",
        "    end = datetime.now()\n",
        "    total_time=end - start\n",
        "    print(f\"Runtime of the program is {total_time.total_seconds()} seconds\")\n",
        "    #print(start,end)\n",
        "    return d"
      ],
      "execution_count": null,
      "outputs": []
    },
    {
      "cell_type": "code",
      "metadata": {
        "colab": {
          "base_uri": "https://localhost:8080/"
        },
        "id": "ccCrjnhb1rP0",
        "outputId": "b132e973-0812-426f-a3ab-7d3bd13d4690"
      },
      "source": [
        "d = model(train_set_x, train_set_y, test_set_x, test_set_y, num_iterations = 5000, learning_rate = 0.005, print_cost = True)"
      ],
      "execution_count": null,
      "outputs": [
        {
          "output_type": "stream",
          "text": [
            "Cost after iteration 0: 0.693147 5\n",
            "Cost after iteration 100: 0.584508 5\n",
            "Cost after iteration 200: 0.466949 5\n",
            "Cost after iteration 300: 0.376007 5\n",
            "Cost after iteration 400: 0.331463 5\n",
            "Cost after iteration 500: 0.303273 5\n",
            "Cost after iteration 600: 0.279880 5\n",
            "Cost after iteration 700: 0.260042 5\n",
            "Cost after iteration 800: 0.242941 5\n",
            "Cost after iteration 900: 0.228004 5\n",
            "Cost after iteration 1000: 0.214820 5\n",
            "Cost after iteration 1100: 0.203078 5\n",
            "Cost after iteration 1200: 0.192544 5\n",
            "Cost after iteration 1300: 0.183033 5\n",
            "Cost after iteration 1400: 0.174399 5\n",
            "Cost after iteration 1500: 0.166521 5\n",
            "Cost after iteration 1600: 0.159305 5\n",
            "Cost after iteration 1700: 0.152667 5\n",
            "Cost after iteration 1800: 0.146542 5\n",
            "Cost after iteration 1900: 0.140872 5\n",
            "Cost after iteration 2000: 0.135608 5\n",
            "Cost after iteration 2100: 0.130708 5\n",
            "Cost after iteration 2200: 0.126137 5\n",
            "Cost after iteration 2300: 0.121861 5\n",
            "Cost after iteration 2400: 0.117855 5\n",
            "Cost after iteration 2500: 0.114093 5\n",
            "Cost after iteration 2600: 0.110554 5\n",
            "Cost after iteration 2700: 0.107219 5\n",
            "Cost after iteration 2800: 0.104072 5\n",
            "Cost after iteration 2900: 0.101097 5\n",
            "Cost after iteration 3000: 0.098280 5\n",
            "Cost after iteration 3100: 0.095610 5\n",
            "Cost after iteration 3200: 0.093075 5\n",
            "Cost after iteration 3300: 0.090667 5\n",
            "Cost after iteration 3400: 0.088374 5\n",
            "Cost after iteration 3500: 0.086190 5\n",
            "Cost after iteration 3600: 0.084108 5\n",
            "Cost after iteration 3700: 0.082119 5\n",
            "Cost after iteration 3800: 0.080219 5\n",
            "Cost after iteration 3900: 0.078402 5\n",
            "Cost after iteration 4000: 0.076662 5\n",
            "Cost after iteration 4100: 0.074994 5\n",
            "Cost after iteration 4200: 0.073395 5\n",
            "Cost after iteration 4300: 0.071860 5\n",
            "Cost after iteration 4400: 0.070385 5\n",
            "Cost after iteration 4500: 0.068968 5\n",
            "Cost after iteration 4600: 0.067604 5\n",
            "Cost after iteration 4700: 0.066291 5\n",
            "Cost after iteration 4800: 0.065027 5\n",
            "Cost after iteration 4900: 0.063807 5\n",
            "train accuracy: 100.0 %\n",
            "test accuracy: 70.0 %\n",
            "Runtime of the program is 8.53313 seconds\n"
          ],
          "name": "stdout"
        }
      ]
    },
    {
      "cell_type": "code",
      "metadata": {
        "colab": {
          "base_uri": "https://localhost:8080/",
          "height": 286
        },
        "id": "57ivkyOA1rP1",
        "outputId": "496501fd-1620-461a-ee47-9247c26d1d9c"
      },
      "source": [
        "# Example of a picture that was wrongly classified.\n",
        "index = 14\n",
        "plt.imshow(test_set_x[:,index].reshape((64, 64, 3)))\n",
        "print (\"y = \" + str(test_set_y[0,index]) + \", you predicted that it is a \\\"\" + classes[int(d['Y_prediction_test'][0,index])].decode(\"utf-8\") +  \"\\\" picture.\")"
      ],
      "execution_count": null,
      "outputs": [
        {
          "output_type": "stream",
          "text": [
            "y = 0, you predicted that it is a \"non-cat\" picture.\n"
          ],
          "name": "stdout"
        },
        {
          "output_type": "display_data",
          "data": {
            "image/png": "[encoded data removed]",
            "text/plain": [
              "<Figure size 432x288 with 1 Axes>"
            ]
          },
          "metadata": {
            "tags": [],
            "needs_background": "light"
          }
        }
      ]
    },
    {
      "cell_type": "code",
      "metadata": {
        "id": "R9-6dtWh1rP1"
      },
      "source": [
        ""
      ],
      "execution_count": null,
      "outputs": []
    }
  ]
}